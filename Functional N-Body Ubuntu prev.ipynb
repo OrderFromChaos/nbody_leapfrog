{
 "cells": [
  {
   "cell_type": "code",
   "execution_count": null,
   "metadata": {
    "collapsed": false
   },
   "outputs": [],
   "source": [
    "#Written to take advantage of local variables and other time optimization tricks\n",
    "#Later, this will be written using numpy for extra optimization (likely after writing the data feeder)\n",
    "\n",
    "#To-do: COM, dealing with extended masses (halo), energy of extended masses (halo)\n",
    "\n",
    "#  -------------------------------------Initial conditions-------------------------------------\n",
    "import random\n",
    "import math\n",
    "#Need to find a way to import the examples file\n",
    "\n",
    "sqrt = math.sqrt\n",
    "rand = random.uniform\n",
    "\n",
    "system = 'mks'\n",
    "if system == 'cgs':\n",
    "    G = 6.6743e-8\n",
    "elif system == 'mks':\n",
    "    G = 6.67408e-11\n",
    "\n",
    "do_random = 0\n",
    "\n",
    "#Only data inputs it should need. Will be global at first.\n",
    "positions, velocities, masses = [[0,0,0],[0,1.49e11,0],[0,0.72*1.49e11,0]], [[0,0,0],[-29690,0,0],[-34720,0,0]], [1.989e30,5.97e24,4.867e24]"
   ]
  },
  {
   "cell_type": "code",
   "execution_count": null,
   "metadata": {
    "collapsed": false
   },
   "outputs": [],
   "source": [
    "#       ---------------------------------Primary Functions---------------------------------\n",
    "def initializeRandom(stars, posr, velr, massr):\n",
    "    posit = [[rand(posr[0],posr[1]) for i in range(3)] for j in range(stars)] #Nested list comprehensions!\n",
    "    veloc = [[rand(velr[0],velr[1]) for i in range(3)] for j in range(stars)]\n",
    "    mas = [rand(massr[0],massr[1]) for i in range(stars)]\n",
    "    return posit, veloc, mas\n",
    "\n",
    "def centerOfMass(pos,mass):\n",
    "    xupper, yupper, zupper, lower = 0,0,0,0\n",
    "    for i in range(len(pos)):\n",
    "        xupper += pos[i][0] * mass[i]\n",
    "        yupper += pos[i][1] * mass[i]\n",
    "        zupper += pos[i][2] * mass[i]\n",
    "        lower += mass[i]\n",
    "    return [xupper/lower,yupper/lower,zupper/lower]\n",
    "    \n",
    "def findEnergies(pos,mass,vel,time,com):\n",
    "    kinetic = sum([0.5*mass[i]*mag(vel[i])**2 for i in range(len(pos))])\n",
    "    potential = 0\n",
    "    for initial in range(len(mass)):\n",
    "        for affective in range(initial+1,len(mass)):\n",
    "            potential += -G * mass[initial] * mass[affective] / findDistance(pos[initial],pos[affective])\n",
    "    \n",
    "    f = open('data.txt','a')\n",
    "    f.write('%.5f'%time + ' ' + str(kinetic)+ ' ' + str(potential) + ' ' + str(kinetic+potential)  + ' ' + ' '.join([str(c) for c in com]) + ' ' +  ' '.join('%.5f %.5f %.5f'%(p[0],p[1],p[2]) for p in pos)+' ' + ' '.join('%.5f %.5f %.5f'%(v[0],v[1],v[2]) for v in vel)+'\\n')\n",
    "    f.close()\n",
    "\n",
    "def findDistance(a,b, returnDiff=0):\n",
    "    #a and b are position sets, like [1,4.3,5] and [5,4,-7], because variable scope\n",
    "    differences = [a[i] - b[i] for i in range(3)]\n",
    "    distance = sqrt(sum([j**2 for j in differences]))\n",
    "    if returnDiff == 0:\n",
    "        return distance\n",
    "    else:\n",
    "        return distance, differences[0], differences[1], differences[2]\n",
    "\n",
    "#Still by far the longest function\n",
    "def updateAccel(pos, mass):\n",
    "    accelerations = [[0,0,0] for j in range(len(mass))] #For some reason [[0,0,0]]*len(mass) didn't work?\n",
    "    \n",
    "    mindist = -1\n",
    "    for initial in range(len(mass)-1): #Last body will already have been done by everything else\n",
    "        for affective in range(initial+1,len(mass)):\n",
    "            dist, xdist, ydist, zdist = findDistance(pos[initial],pos[affective],1)\n",
    "            \n",
    "            if dist < mindist or mindist == -1: #This short circuits before -1, saving some time\n",
    "                mindist = dist\n",
    "            \n",
    "            force = G*mass[initial]*mass[affective]/(dist ** 3)\n",
    "            \n",
    "            acc_initial = force/mass[initial]\n",
    "            acc_affective = force/mass[affective] #Could do a memory/time tradeoff here\n",
    "            \n",
    "            accelerations[initial][0] += acc_initial * -xdist\n",
    "            accelerations[initial][1] += acc_initial * -ydist\n",
    "            accelerations[initial][2] += acc_initial * -zdist\n",
    "            \n",
    "            accelerations[affective][0] += acc_affective * xdist\n",
    "            accelerations[affective][1] += acc_affective * ydist\n",
    "            accelerations[affective][2] += acc_affective * zdist\n",
    "    \n",
    "    return mindist, accelerations\n",
    "\n",
    "def vHalf(vel, a, t):\n",
    "    v = vel #Is this necessary?\n",
    "    for i in range(len(vel)):\n",
    "        v[i][0] += 0.5*a[i][0]*t\n",
    "        v[i][1] += 0.5*a[i][1]*t\n",
    "        v[i][2] += 0.5*a[i][2]*t\n",
    "    return v\n",
    "\n",
    "def updatePositions(pos,v_half,t):\n",
    "    for i in range(len(pos)):\n",
    "        pos[i][0] += v_half[i][0]*t\n",
    "        pos[i][1] += v_half[i][1]*t\n",
    "        pos[i][2] += v_half[i][2]*t\n",
    "    \n",
    "    return pos\n",
    "\n",
    "def updateVelocities(v_half,a,t):\n",
    "    v = v_half\n",
    "    for i in range(len(v_half)):\n",
    "        v[i][0] += 0.5*a[i][0]*t\n",
    "        v[i][1] += 0.5*a[i][1]*t\n",
    "        v[i][2] += 0.5*a[i][2]*t\n",
    "        \n",
    "    return v\n",
    "\n",
    "def mag(n):\n",
    "    return sqrt(sum([x**2 for x in n]))"
   ]
  },
  {
   "cell_type": "code",
   "execution_count": null,
   "metadata": {
    "collapsed": true
   },
   "outputs": [],
   "source": [
    "#       ---------------------------------------Setup---------------------------------------\n",
    "if do_random == 1:\n",
    "    positions, velocities, masses = initializeRandom(200,[-3e13,2.5e13],[-5e6,5e6],[1e33,5e33]) #Stars, position range, velocity range, mass range\n",
    "\n",
    "#       -------------------------------------Main Loop-------------------------------------\n",
    "\n",
    "def leapfrog(p, v, m, nloops): #p = positions; v = velocities; m = masses; nloops = times run\n",
    "    time = 0\n",
    "    mindist, accel = updateAccel(p,m)\n",
    "    f = open('data.txt','w') #Clears data file\n",
    "    f.close()\n",
    "    \n",
    "    percent_indicators = nloops//5\n",
    "    \n",
    "    #Finds acceleration using Newtonian gravity and finds minimum distance between bodies\n",
    "    for L in range(nloops):\n",
    "        com = centerOfMass(p,m)\n",
    "        #Finds center of mass, returns COM in [x,y,z]\n",
    "        findEnergies(p,m,v,time,com)\n",
    "        #Finds kinetic and potential energy, adds all data to text file\n",
    "        max_acc = max(mag(j) for j in accel)\n",
    "        dt = (sqrt(mindist/max_acc)) * 0.05 #Force tolerance multiplier\n",
    "        #Find adaptive timestep values\n",
    "        vh = vHalf(v,accel,dt)\n",
    "        #Finds v_half, which feeds into next accel and velocity loop\n",
    "        p = updatePositions(p,vh,dt)\n",
    "        #Updates positions based on accelerations\n",
    "        mindist, accel = updateAccel(p,m)\n",
    "        #Updates to new acceleration.\n",
    "        v = updateVelocities(vh,accel,dt)\n",
    "        #Finally, the big advantage to KDK. This only requires one accel calc.\n",
    "        time += dt\n",
    "        if L % percent_indicators == 0: #Percentage calculator for progress indicator\n",
    "            print(str(int(L/nloops*100)) + '% done!')\n",
    "    print('Run successfully!')"
   ]
  },
  {
   "cell_type": "code",
   "execution_count": null,
   "metadata": {
    "collapsed": false
   },
   "outputs": [],
   "source": [
    "s = leapfrog(positions,velocities,masses,5000)"
   ]
  },
  {
   "cell_type": "code",
   "execution_count": null,
   "metadata": {
    "collapsed": false
   },
   "outputs": [],
   "source": [
    "%matplotlib notebook\n",
    "import matplotlib.pyplot as plt"
   ]
  },
  {
   "cell_type": "code",
   "execution_count": null,
   "metadata": {
    "collapsed": false
   },
   "outputs": [],
   "source": [
    "plt.plot(s)\n",
    "plt.ylim(1.4e13,1.6e13)\n",
    "plt.show()"
   ]
  },
  {
   "cell_type": "code",
   "execution_count": null,
   "metadata": {
    "collapsed": true
   },
   "outputs": [],
   "source": [
    "import numpy as np"
   ]
  },
  {
   "cell_type": "code",
   "execution_count": null,
   "metadata": {
    "collapsed": false
   },
   "outputs": [],
   "source": [
    "dat = np.loadtxt('m31_data.txt', usecols=(1,2,3,4,5,6,7))"
   ]
  },
  {
   "cell_type": "code",
   "execution_count": null,
   "metadata": {
    "collapsed": false
   },
   "outputs": [],
   "source": [
    "dat[:,6]"
   ]
  },
  {
   "cell_type": "code",
   "execution_count": null,
   "metadata": {
    "collapsed": true
   },
   "outputs": [],
   "source": []
  }
 ],
 "metadata": {
  "anaconda-cloud": {},
  "kernelspec": {
   "display_name": "Python 3",
   "language": "python",
   "name": "python3"
  },
  "language_info": {
   "codemirror_mode": {
    "name": "ipython",
    "version": 3
   },
   "file_extension": ".py",
   "mimetype": "text/x-python",
   "name": "python",
   "nbconvert_exporter": "python",
   "pygments_lexer": "ipython3",
   "version": "3.6.0"
  }
 },
 "nbformat": 4,
 "nbformat_minor": 1
}
