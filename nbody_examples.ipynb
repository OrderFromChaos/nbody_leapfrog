{
 "cells": [
  {
   "cell_type": "code",
   "execution_count": null,
   "metadata": {
    "collapsed": true
   },
   "outputs": [],
   "source": [
    "def sunearth(msys):\n",
    "    if msys == 'cgs':\n",
    "        return [[0,0,0],[0,1.49e13,0]], [[0,0,0],[-2.98e6,0,0]], [1.99e33,5.97e27]\n",
    "    elif msys == 'mks':\n",
    "        return [[0,0,0],[0,1.49e11,0]], [[0,0,0],[-2.98e4,0,0]], [1.99e30,5.97e24]"
   ]
  }
 ],
 "metadata": {
  "anaconda-cloud": {},
  "kernelspec": {
   "display_name": "Python [conda root]",
   "language": "python",
   "name": "conda-root-py"
  },
  "language_info": {
   "codemirror_mode": {
    "name": "ipython",
    "version": 3
   },
   "file_extension": ".py",
   "mimetype": "text/x-python",
   "name": "python",
   "nbconvert_exporter": "python",
   "pygments_lexer": "ipython3",
   "version": "3.5.2"
  }
 },
 "nbformat": 4,
 "nbformat_minor": 1
}
