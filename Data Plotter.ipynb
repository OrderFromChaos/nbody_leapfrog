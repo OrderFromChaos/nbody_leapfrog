{
 "cells": [
  {
   "cell_type": "code",
   "execution_count": null,
   "metadata": {
    "collapsed": true
   },
   "outputs": [],
   "source": [
    "#Peter Creasey's Data Plotter\n",
    "import numpy as np\n",
    "\n",
    "nstars = 10\n",
    "data = np.loadtxt('data.txt')\n",
    "\n",
    "ke = data[:,0]\n",
    "pe = data[:,1]\n",
    "tot = data[:,2]\n",
    "\n",
    "pos = []\n",
    "for i in range(nstars):\n",
    "    pos.append(data[:,(i*3+3):(i*3+6)])\n",
    "\n",
    "if __name__=='__main__':\n",
    "    \n",
    "    pl.subplot(221)\n",
    "    pl.plot(ke, label='KE')\n",
    "    pl.plot(pe, label='Potl. En.')\n",
    "    pl.plot(tot, label='Total')\n",
    "    pl.legend(frameon=False)\n",
    "\n",
    "    pl.subplot(222)\n",
    "    clrs = 'bgrcy'*10\n",
    "    for i in range(nstars):\n",
    "        print pos[i].shape\n",
    "        pl.plot(pos[i][:,0],pos[i][:,1],c=clrs[i])\n",
    "        pl.plot(pos[i][-1,0],pos[i][-1,1],clrs[i]+'o') # final pos\n",
    "        pl.plot(pos[i][0,0],pos[i][0,1],clrs[i]+'^') # start pos\n",
    "\n",
    "    pl.xlabel('x')\n",
    "    pl.ylabel('y')\n",
    "\n",
    "    pl.subplot(223)\n",
    "    for i in range(nstars):\n",
    "        print pos[i].shape\n",
    "        pl.plot(pos[i][:,0],pos[i][:,2])\n",
    "        pl.plot(pos[i][-1,0],pos[i][-1,2],clrs[i]+'o') # final pos\n",
    "        pl.plot(pos[i][0,0],pos[i][0,2],clrs[i]+'^') # start pos\n",
    "\n",
    "    pl.xlabel('x')\n",
    "    pl.ylabel('z')\n",
    "\n",
    "    pl.show()\n",
    "    print pos[0][:,0]"
   ]
  }
 ],
 "metadata": {
  "anaconda-cloud": {},
  "kernelspec": {
   "display_name": "Python [conda root]",
   "language": "python",
   "name": "conda-root-py"
  },
  "language_info": {
   "codemirror_mode": {
    "name": "ipython",
    "version": 3
   },
   "file_extension": ".py",
   "mimetype": "text/x-python",
   "name": "python",
   "nbconvert_exporter": "python",
   "pygments_lexer": "ipython3",
   "version": "3.5.2"
  }
 },
 "nbformat": 4,
 "nbformat_minor": 1
}
