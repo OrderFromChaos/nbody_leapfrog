{
 "cells": [
  {
   "cell_type": "code",
   "execution_count": null,
   "metadata": {
    "collapsed": true
   },
   "outputs": [],
   "source": [
    "#Timing libraries\n",
    "import time\n",
    "import timeit\n",
    "\n",
    "#Non-numpy optimization libraries\n",
    "import random\n",
    "from operator import add\n",
    "\n",
    "import numpy\n",
    "#numpy.inf will always return greater than any x"
   ]
  },
  {
   "cell_type": "code",
   "execution_count": null,
   "metadata": {
    "collapsed": true
   },
   "outputs": [],
   "source": [
    "#Code tests\n"
   ]
  },
  {
   "cell_type": "code",
   "execution_count": null,
   "metadata": {
    "collapsed": true
   },
   "outputs": [],
   "source": [
    "#Primary testing function\n",
    "def timetest(methods = None):\n",
    "    if methods = None:\n",
    "        methods = [x for x in range(3)] #Always 1 greater than number of methods\n",
    "    if methods = 0:\n",
    "        #Run function you started with before optimization\n",
    "        passs\n",
    "    if methods = 1:\n",
    "        #Run function that's optimized (but doesn't use numpy)\n",
    "        pass\n",
    "    if methods = 2:\n",
    "        #Run function that's optimized using numpy"
   ]
  }
 ],
 "metadata": {
  "kernelspec": {
   "display_name": "Python 3",
   "language": "python",
   "name": "python3"
  },
  "language_info": {
   "codemirror_mode": {
    "name": "ipython",
    "version": 3
   },
   "file_extension": ".py",
   "mimetype": "text/x-python",
   "name": "python",
   "nbconvert_exporter": "python",
   "pygments_lexer": "ipython3",
   "version": "3.6.0"
  }
 },
 "nbformat": 4,
 "nbformat_minor": 2
}
